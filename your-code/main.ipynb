{
  "nbformat": 4,
  "nbformat_minor": 0,
  "metadata": {
    "kernelspec": {
      "display_name": "Python 3",
      "language": "python",
      "name": "python3"
    },
    "language_info": {
      "codemirror_mode": {
        "name": "ipython",
        "version": 3
      },
      "file_extension": ".py",
      "mimetype": "text/x-python",
      "name": "python",
      "nbconvert_exporter": "python",
      "pygments_lexer": "ipython3",
      "version": "3.6.9"
    },
    "colab": {
      "name": "main.ipynb",
      "provenance": []
    }
  },
  "cells": [
    {
      "cell_type": "markdown",
      "metadata": {
        "id": "SwT9Ksi_HDMh"
      },
      "source": [
        "# Before your start:\n",
        "- Read the README.md file\n",
        "- Comment as much as you can and use the resources in the README.md file\n",
        "- Happy learning!"
      ]
    },
    {
      "cell_type": "code",
      "metadata": {
        "id": "-tq--GggHDMk"
      },
      "source": [
        "#Import your libraries\n",
        "import pandas as pd"
      ],
      "execution_count": 7,
      "outputs": []
    },
    {
      "cell_type": "markdown",
      "metadata": {
        "id": "4fj2KX9EHDMl"
      },
      "source": [
        "\n",
        "# Challenge 1 - Import and Describe the Dataset"
      ]
    },
    {
      "cell_type": "markdown",
      "metadata": {
        "id": "mgF7rRhUHDMl"
      },
      "source": [
        "#### In this challenge we will use the `austin_weather` data. \n",
        "\n",
        "#### First, import it into a data frame called `austin`. "
      ]
    },
    {
      "cell_type": "code",
      "metadata": {
        "id": "InFTn19JHDMm"
      },
      "source": [
        "# Your code here\n",
        "url = 'https://raw.githubusercontent.com/renatorbf/lab-intro-to-ml/master/your-code/austin_weather.csv'\n",
        "austin = pd.read_csv(url)"
      ],
      "execution_count": 8,
      "outputs": []
    },
    {
      "cell_type": "markdown",
      "metadata": {
        "id": "DO2Mt9MgHDMm"
      },
      "source": [
        "#### Next, describe the dataset you have loaded: \n",
        "- Look at the variables and their types\n",
        "- Examine the descriptive statistics of the numeric variables \n",
        "- Look at the first five rows of all variables to evaluate the categorical variables as well"
      ]
    },
    {
      "cell_type": "code",
      "metadata": {
        "id": "wcL1mBQPHDMm",
        "outputId": "18ec652e-344b-4f88-cbfd-c6a8e0c34673",
        "colab": {
          "base_uri": "https://localhost:8080/",
          "height": 398
        }
      },
      "source": [
        "# Your code here\n",
        "\n",
        "# Look at the variables and their types\n",
        "display(austin.dtypes)"
      ],
      "execution_count": 9,
      "outputs": [
        {
          "output_type": "display_data",
          "data": {
            "text/plain": [
              "Date                          object\n",
              "TempHighF                      int64\n",
              "TempAvgF                       int64\n",
              "TempLowF                       int64\n",
              "DewPointHighF                 object\n",
              "DewPointAvgF                  object\n",
              "DewPointLowF                  object\n",
              "HumidityHighPercent           object\n",
              "HumidityAvgPercent            object\n",
              "HumidityLowPercent            object\n",
              "SeaLevelPressureHighInches    object\n",
              "SeaLevelPressureAvgInches     object\n",
              "SeaLevelPressureLowInches     object\n",
              "VisibilityHighMiles           object\n",
              "VisibilityAvgMiles            object\n",
              "VisibilityLowMiles            object\n",
              "WindHighMPH                   object\n",
              "WindAvgMPH                    object\n",
              "WindGustMPH                   object\n",
              "PrecipitationSumInches        object\n",
              "Events                        object\n",
              "dtype: object"
            ]
          },
          "metadata": {}
        }
      ]
    },
    {
      "cell_type": "code",
      "metadata": {
        "id": "mReNe_BlHDMn",
        "outputId": "d14dca35-e013-44ec-fc29-cf75e29a3194",
        "colab": {
          "base_uri": "https://localhost:8080/"
        }
      },
      "source": [
        "# Your code here\n",
        "\n",
        "# Examine the descriptive statistics of the numeric variables\n",
        "austin.describe"
      ],
      "execution_count": 10,
      "outputs": [
        {
          "output_type": "execute_result",
          "data": {
            "text/plain": [
              "<bound method NDFrame.describe of             Date  TempHighF  ...  PrecipitationSumInches               Events\n",
              "0     2013-12-21         74  ...                    0.46  Rain , Thunderstorm\n",
              "1     2013-12-22         56  ...                       0                     \n",
              "2     2013-12-23         58  ...                       0                     \n",
              "3     2013-12-24         61  ...                       0                     \n",
              "4     2013-12-25         58  ...                       T                     \n",
              "...          ...        ...  ...                     ...                  ...\n",
              "1314  2017-07-27        103  ...                       0                     \n",
              "1315  2017-07-28        105  ...                       0                     \n",
              "1316  2017-07-29        107  ...                       0                     \n",
              "1317  2017-07-30        106  ...                       0                     \n",
              "1318  2017-07-31         99  ...                       0                     \n",
              "\n",
              "[1319 rows x 21 columns]>"
            ]
          },
          "metadata": {},
          "execution_count": 10
        }
      ]
    },
    {
      "cell_type": "code",
      "metadata": {
        "id": "S1up045WHDMn",
        "outputId": "79f28b68-c52c-4b25-f112-fa3b599d38a6",
        "colab": {
          "base_uri": "https://localhost:8080/",
          "height": 313
        }
      },
      "source": [
        "# Your code here\n",
        "# Look at the first five rows of all variables to evaluate the categorical variables as well\n",
        "austin.head()"
      ],
      "execution_count": 11,
      "outputs": [
        {
          "output_type": "execute_result",
          "data": {
            "text/html": [
              "<div>\n",
              "<style scoped>\n",
              "    .dataframe tbody tr th:only-of-type {\n",
              "        vertical-align: middle;\n",
              "    }\n",
              "\n",
              "    .dataframe tbody tr th {\n",
              "        vertical-align: top;\n",
              "    }\n",
              "\n",
              "    .dataframe thead th {\n",
              "        text-align: right;\n",
              "    }\n",
              "</style>\n",
              "<table border=\"1\" class=\"dataframe\">\n",
              "  <thead>\n",
              "    <tr style=\"text-align: right;\">\n",
              "      <th></th>\n",
              "      <th>Date</th>\n",
              "      <th>TempHighF</th>\n",
              "      <th>TempAvgF</th>\n",
              "      <th>TempLowF</th>\n",
              "      <th>DewPointHighF</th>\n",
              "      <th>DewPointAvgF</th>\n",
              "      <th>DewPointLowF</th>\n",
              "      <th>HumidityHighPercent</th>\n",
              "      <th>HumidityAvgPercent</th>\n",
              "      <th>HumidityLowPercent</th>\n",
              "      <th>SeaLevelPressureHighInches</th>\n",
              "      <th>SeaLevelPressureAvgInches</th>\n",
              "      <th>SeaLevelPressureLowInches</th>\n",
              "      <th>VisibilityHighMiles</th>\n",
              "      <th>VisibilityAvgMiles</th>\n",
              "      <th>VisibilityLowMiles</th>\n",
              "      <th>WindHighMPH</th>\n",
              "      <th>WindAvgMPH</th>\n",
              "      <th>WindGustMPH</th>\n",
              "      <th>PrecipitationSumInches</th>\n",
              "      <th>Events</th>\n",
              "    </tr>\n",
              "  </thead>\n",
              "  <tbody>\n",
              "    <tr>\n",
              "      <th>0</th>\n",
              "      <td>2013-12-21</td>\n",
              "      <td>74</td>\n",
              "      <td>60</td>\n",
              "      <td>45</td>\n",
              "      <td>67</td>\n",
              "      <td>49</td>\n",
              "      <td>43</td>\n",
              "      <td>93</td>\n",
              "      <td>75</td>\n",
              "      <td>57</td>\n",
              "      <td>29.86</td>\n",
              "      <td>29.68</td>\n",
              "      <td>29.59</td>\n",
              "      <td>10</td>\n",
              "      <td>7</td>\n",
              "      <td>2</td>\n",
              "      <td>20</td>\n",
              "      <td>4</td>\n",
              "      <td>31</td>\n",
              "      <td>0.46</td>\n",
              "      <td>Rain , Thunderstorm</td>\n",
              "    </tr>\n",
              "    <tr>\n",
              "      <th>1</th>\n",
              "      <td>2013-12-22</td>\n",
              "      <td>56</td>\n",
              "      <td>48</td>\n",
              "      <td>39</td>\n",
              "      <td>43</td>\n",
              "      <td>36</td>\n",
              "      <td>28</td>\n",
              "      <td>93</td>\n",
              "      <td>68</td>\n",
              "      <td>43</td>\n",
              "      <td>30.41</td>\n",
              "      <td>30.13</td>\n",
              "      <td>29.87</td>\n",
              "      <td>10</td>\n",
              "      <td>10</td>\n",
              "      <td>5</td>\n",
              "      <td>16</td>\n",
              "      <td>6</td>\n",
              "      <td>25</td>\n",
              "      <td>0</td>\n",
              "      <td></td>\n",
              "    </tr>\n",
              "    <tr>\n",
              "      <th>2</th>\n",
              "      <td>2013-12-23</td>\n",
              "      <td>58</td>\n",
              "      <td>45</td>\n",
              "      <td>32</td>\n",
              "      <td>31</td>\n",
              "      <td>27</td>\n",
              "      <td>23</td>\n",
              "      <td>76</td>\n",
              "      <td>52</td>\n",
              "      <td>27</td>\n",
              "      <td>30.56</td>\n",
              "      <td>30.49</td>\n",
              "      <td>30.41</td>\n",
              "      <td>10</td>\n",
              "      <td>10</td>\n",
              "      <td>10</td>\n",
              "      <td>8</td>\n",
              "      <td>3</td>\n",
              "      <td>12</td>\n",
              "      <td>0</td>\n",
              "      <td></td>\n",
              "    </tr>\n",
              "    <tr>\n",
              "      <th>3</th>\n",
              "      <td>2013-12-24</td>\n",
              "      <td>61</td>\n",
              "      <td>46</td>\n",
              "      <td>31</td>\n",
              "      <td>36</td>\n",
              "      <td>28</td>\n",
              "      <td>21</td>\n",
              "      <td>89</td>\n",
              "      <td>56</td>\n",
              "      <td>22</td>\n",
              "      <td>30.56</td>\n",
              "      <td>30.45</td>\n",
              "      <td>30.3</td>\n",
              "      <td>10</td>\n",
              "      <td>10</td>\n",
              "      <td>7</td>\n",
              "      <td>12</td>\n",
              "      <td>4</td>\n",
              "      <td>20</td>\n",
              "      <td>0</td>\n",
              "      <td></td>\n",
              "    </tr>\n",
              "    <tr>\n",
              "      <th>4</th>\n",
              "      <td>2013-12-25</td>\n",
              "      <td>58</td>\n",
              "      <td>50</td>\n",
              "      <td>41</td>\n",
              "      <td>44</td>\n",
              "      <td>40</td>\n",
              "      <td>36</td>\n",
              "      <td>86</td>\n",
              "      <td>71</td>\n",
              "      <td>56</td>\n",
              "      <td>30.41</td>\n",
              "      <td>30.33</td>\n",
              "      <td>30.27</td>\n",
              "      <td>10</td>\n",
              "      <td>10</td>\n",
              "      <td>7</td>\n",
              "      <td>10</td>\n",
              "      <td>2</td>\n",
              "      <td>16</td>\n",
              "      <td>T</td>\n",
              "      <td></td>\n",
              "    </tr>\n",
              "  </tbody>\n",
              "</table>\n",
              "</div>"
            ],
            "text/plain": [
              "         Date  TempHighF  ...  PrecipitationSumInches               Events\n",
              "0  2013-12-21         74  ...                    0.46  Rain , Thunderstorm\n",
              "1  2013-12-22         56  ...                       0                     \n",
              "2  2013-12-23         58  ...                       0                     \n",
              "3  2013-12-24         61  ...                       0                     \n",
              "4  2013-12-25         58  ...                       T                     \n",
              "\n",
              "[5 rows x 21 columns]"
            ]
          },
          "metadata": {},
          "execution_count": 11
        }
      ]
    },
    {
      "cell_type": "markdown",
      "metadata": {
        "id": "37cRq4W0HDMo"
      },
      "source": [
        "#### Given the information you have learned from examining the dataset, write down three insights about the data in a markdown cell below"
      ]
    },
    {
      "cell_type": "markdown",
      "metadata": {
        "id": "u1Jd7wyAHDMo"
      },
      "source": [
        "#### Your Insights:\n",
        "\n",
        "1. There are 21 variables in the dataset. 3 of them are numeric and the rest contain some text.\n",
        "\n",
        "2. The average temperature in Austin ranged between around 70 degrees F and around 93 degrees F. The highest temperature observed during this period was 107 degrees F and the lowest was 19 degrees F.\n",
        "\n",
        "3. When we look at the head function, we see that a lot of variables contain numeric data even though these columns are of object type. This means we might have to do some data cleansing.\n"
      ]
    },
    {
      "cell_type": "markdown",
      "metadata": {
        "id": "AJG9NbNxHDMp"
      },
      "source": [
        "#### Let's examine the DewPointAvgF variable by using the `unique()` function to list all unique values in this dataframe.\n",
        "\n",
        "Describe what you find in a markdown cell below the code. What did you notice? What do you think made Pandas to treat this column as *object* instead of *int64*? "
      ]
    },
    {
      "cell_type": "code",
      "metadata": {
        "id": "n3jzwsL0HDMp",
        "outputId": "bee7fac1-c68b-41f8-e315-899292c2e014",
        "colab": {
          "base_uri": "https://localhost:8080/"
        }
      },
      "source": [
        "# Your code here\n",
        "\n",
        "austin['DewPointAvgF'].unique()\n"
      ],
      "execution_count": 12,
      "outputs": [
        {
          "output_type": "execute_result",
          "data": {
            "text/plain": [
              "array(['49', '36', '27', '28', '40', '39', '41', '26', '42', '22', '48',\n",
              "       '32', '8', '11', '45', '55', '61', '37', '47', '25', '23', '20',\n",
              "       '33', '30', '29', '17', '14', '13', '54', '59', '15', '24', '34',\n",
              "       '35', '57', '50', '53', '60', '46', '56', '51', '31', '38', '62',\n",
              "       '43', '63', '64', '67', '66', '58', '70', '68', '65', '69', '71',\n",
              "       '72', '-', '73', '74', '21', '44', '52', '12', '75', '76', '18'],\n",
              "      dtype=object)"
            ]
          },
          "metadata": {},
          "execution_count": 12
        }
      ]
    },
    {
      "cell_type": "code",
      "metadata": {
        "id": "AfxWYrqmHDMp"
      },
      "source": [
        "# Your observation here\n",
        "\n",
        "# there is a value that is not a number, it's a minus (-) symbol"
      ],
      "execution_count": 13,
      "outputs": []
    },
    {
      "cell_type": "markdown",
      "metadata": {
        "id": "HeNYnL9OHDMp"
      },
      "source": [
        "The following is a list of columns misrepresented as `object`. Use this list to convert the columns to numeric using the `pandas.to_numeric` function in the next cell. If you encounter errors in converting strings to numeric values, you need to catch those errors and force the conversion by supplying `errors='coerce'` as an argument for `pandas.to_numeric`. Coercing will replace non-convertable elements with `NaN` which represents an undefined numeric value. This makes it possible for us to conveniently handle missing values in subsequent data processing.\n",
        "\n",
        "*Hint: you may use a loop to change one column at a time but it is more efficient to use `apply`.*"
      ]
    },
    {
      "cell_type": "code",
      "metadata": {
        "id": "SsOkjcSDHDMq"
      },
      "source": [
        "wrong_type_columns = ['DewPointHighF', 'DewPointAvgF', 'DewPointLowF', 'HumidityHighPercent', \n",
        "                      'HumidityAvgPercent', 'HumidityLowPercent', 'SeaLevelPressureHighInches', \n",
        "                      'SeaLevelPressureAvgInches' ,'SeaLevelPressureLowInches', 'VisibilityHighMiles',\n",
        "                      'VisibilityAvgMiles', 'VisibilityLowMiles', 'WindHighMPH', 'WindAvgMPH', \n",
        "                      'WindGustMPH', 'PrecipitationSumInches']"
      ],
      "execution_count": 14,
      "outputs": []
    },
    {
      "cell_type": "code",
      "metadata": {
        "id": "hTX3IMueHDMq"
      },
      "source": [
        "# Your code here\n",
        "austin[wrong_type_columns] = austin[wrong_type_columns].apply(pd.to_numeric, errors='coerce')"
      ],
      "execution_count": 39,
      "outputs": []
    },
    {
      "cell_type": "markdown",
      "metadata": {
        "id": "O0dfVYfGHDMq"
      },
      "source": [
        "#### Check if your code has worked by printing the data types again. You should see only two `object` columns (`Date` and `Events`) now. All other columns should be `int64` or `float64`."
      ]
    },
    {
      "cell_type": "code",
      "metadata": {
        "id": "cnv22bqVHDMr",
        "outputId": "e8be5750-1126-453a-b848-52860af046b7",
        "colab": {
          "base_uri": "https://localhost:8080/"
        }
      },
      "source": [
        "# Your code here\n",
        "austin.dtypes"
      ],
      "execution_count": 40,
      "outputs": [
        {
          "output_type": "execute_result",
          "data": {
            "text/plain": [
              "Date                           object\n",
              "TempHighF                       int64\n",
              "TempAvgF                        int64\n",
              "TempLowF                        int64\n",
              "DewPointHighF                 float64\n",
              "DewPointAvgF                  float64\n",
              "DewPointLowF                  float64\n",
              "HumidityHighPercent           float64\n",
              "HumidityAvgPercent            float64\n",
              "HumidityLowPercent            float64\n",
              "SeaLevelPressureHighInches    float64\n",
              "SeaLevelPressureAvgInches     float64\n",
              "SeaLevelPressureLowInches     float64\n",
              "VisibilityHighMiles           float64\n",
              "VisibilityAvgMiles            float64\n",
              "VisibilityLowMiles            float64\n",
              "WindHighMPH                   float64\n",
              "WindAvgMPH                    float64\n",
              "WindGustMPH                   float64\n",
              "PrecipitationSumInches        float64\n",
              "Events                         object\n",
              "dtype: object"
            ]
          },
          "metadata": {},
          "execution_count": 40
        }
      ]
    },
    {
      "cell_type": "markdown",
      "metadata": {
        "id": "ugGJOGWsHDMr"
      },
      "source": [
        "# Challenge 2 - Handle the Missing Data"
      ]
    },
    {
      "cell_type": "markdown",
      "metadata": {
        "id": "RlrlOJk7HDMr"
      },
      "source": [
        "#### Now that we have fixed the type mismatch, let's address the missing data.\n",
        "\n",
        "By coercing the columns to numeric, we have created `NaN` for each cell containing characters. We should choose a strategy to address these missing data.\n",
        "\n",
        "The first step is to examine how many rows contain missing data.\n",
        "\n",
        "We check how much missing data we have by applying the `.isnull()` function to our dataset. To find the rows with missing data in any of its cells, we apply `.any(axis=1)` to the function. `austin.isnull().any(axis=1)` will return a column containing true if the row contains at least one missing value and false otherwise. Therefore we must subset our dataframe with this column. This will give us all rows with at least one missing value. \n",
        "\n",
        "#### In the next cell, identify all rows containing at least one missing value. Assign the dataframes with missing values to a variable called `missing_values`."
      ]
    },
    {
      "cell_type": "code",
      "metadata": {
        "id": "Yd1_NDq9HDMr"
      },
      "source": [
        "# Your code here\n"
      ],
      "execution_count": 17,
      "outputs": []
    },
    {
      "cell_type": "markdown",
      "metadata": {
        "id": "c-CdqJavHDMr"
      },
      "source": [
        "There are multiple strategies to handle missing data. Below lists the most common ones data scientists use:\n",
        "\n",
        "* Removing all rows or all columns containing missing data. This is the simplest strategy. It may work in some cases but not others.\n",
        "\n",
        "* Filling all missing values with a placeholder value. \n",
        "    * For categorical data, `0`, `-1`, and `9999` are some commonly used placeholder values. \n",
        "    * For continuous data, some may opt to fill all missing data with the mean. This strategy is not optimal since it can increase the fit of the model.\n",
        "\n",
        "* Filling the values using some algorithm. \n",
        "\n",
        "#### In our case, we will use a hybrid approach which is to first remove the data that contain most missing values then fill in the rest of the missing values with the *linear interpolation* algorithm."
      ]
    },
    {
      "cell_type": "markdown",
      "metadata": {
        "id": "cd0kURyAHDMs"
      },
      "source": [
        "#### Next, count the number of rows of `austin` and `missing_values`."
      ]
    },
    {
      "cell_type": "code",
      "metadata": {
        "id": "UoVCjfTbHDMs"
      },
      "source": [
        "# Your code here\n"
      ],
      "execution_count": 18,
      "outputs": []
    },
    {
      "cell_type": "markdown",
      "metadata": {
        "id": "IJKqulfuHDMs"
      },
      "source": [
        "#### Calculate the ratio of missing rows to total rows"
      ]
    },
    {
      "cell_type": "code",
      "metadata": {
        "id": "plm8vHE7HDMs"
      },
      "source": [
        "# Your code here\n"
      ],
      "execution_count": 19,
      "outputs": []
    },
    {
      "cell_type": "markdown",
      "metadata": {
        "id": "0IagJdfJHDMs"
      },
      "source": [
        "As you can see, there is a large proportion of missing data (over 10%). Perhaps we should evaluate which columns have the most missing data and remove those columns. For the remaining columns, we will perform a linear approximation of the missing data.\n",
        "\n",
        "We can find the number of missing rows in each column using the `.isna()` function. We then chain the `.sum` function to the `.isna()` function and find the number of missing rows per column"
      ]
    },
    {
      "cell_type": "code",
      "metadata": {
        "id": "sTukUguwHDMs"
      },
      "source": [
        "# Your code here\n"
      ],
      "execution_count": 20,
      "outputs": []
    },
    {
      "cell_type": "markdown",
      "metadata": {
        "id": "JhVmCzfnHDMs"
      },
      "source": [
        "#### As you can see from the output, the majority of missing data is in one column called `PrecipitationSumInches`. What's the number of missing values in this column in ratio to its total number of rows?"
      ]
    },
    {
      "cell_type": "code",
      "metadata": {
        "id": "NlS-PHIcHDMt"
      },
      "source": [
        "# Your code here\n"
      ],
      "execution_count": 21,
      "outputs": []
    },
    {
      "cell_type": "markdown",
      "metadata": {
        "id": "J1MWycm2HDMt"
      },
      "source": [
        "Almost 10% data missing! Therefore, we prefer to remove this column instead of filling its missing values. \n",
        "\n",
        "#### Remove this column from `austin` using the `.drop()` function. Use the `inplace=True` argument.\n",
        "\n",
        "*Hints:*\n",
        "\n",
        "* By supplying `inplace=True` to `drop()`, the original dataframe object will be changed in place and the function will return `None`. In contrast, if you don't supply `inplace=True`, which is equivalent to supplying `inplace=False` because `False` is the default value, the original dataframe object will be kept and the function returns a copy of the transformed dataframe object. In the latter case, you'll have to assign the returned object back to your variable.\n",
        "\n",
        "* Also, since you are dropping a column instead of a row, you'll need to supply `axis=1` to `drop()`.\n",
        "\n",
        "[Reference for `pandas.DataFrame.drop`](https://pandas.pydata.org/pandas-docs/stable/generated/pandas.DataFrame.drop.html)"
      ]
    },
    {
      "cell_type": "code",
      "metadata": {
        "id": "yYH8dUN4HDMt",
        "outputId": "95b25d48-1ef3-4042-ab73-289b3a04b5c4",
        "colab": {
          "base_uri": "https://localhost:8080/",
          "height": 0
        }
      },
      "source": [
        "# Your code here \n",
        "\n",
        "\n",
        "# Print `austin` to confirm the column is indeed removed\n",
        "\n",
        "austin"
      ],
      "execution_count": 22,
      "outputs": [
        {
          "output_type": "execute_result",
          "data": {
            "text/html": [
              "<div>\n",
              "<style scoped>\n",
              "    .dataframe tbody tr th:only-of-type {\n",
              "        vertical-align: middle;\n",
              "    }\n",
              "\n",
              "    .dataframe tbody tr th {\n",
              "        vertical-align: top;\n",
              "    }\n",
              "\n",
              "    .dataframe thead th {\n",
              "        text-align: right;\n",
              "    }\n",
              "</style>\n",
              "<table border=\"1\" class=\"dataframe\">\n",
              "  <thead>\n",
              "    <tr style=\"text-align: right;\">\n",
              "      <th></th>\n",
              "      <th>Date</th>\n",
              "      <th>TempHighF</th>\n",
              "      <th>TempAvgF</th>\n",
              "      <th>TempLowF</th>\n",
              "      <th>DewPointHighF</th>\n",
              "      <th>DewPointAvgF</th>\n",
              "      <th>DewPointLowF</th>\n",
              "      <th>HumidityHighPercent</th>\n",
              "      <th>HumidityAvgPercent</th>\n",
              "      <th>HumidityLowPercent</th>\n",
              "      <th>SeaLevelPressureHighInches</th>\n",
              "      <th>SeaLevelPressureAvgInches</th>\n",
              "      <th>SeaLevelPressureLowInches</th>\n",
              "      <th>VisibilityHighMiles</th>\n",
              "      <th>VisibilityAvgMiles</th>\n",
              "      <th>VisibilityLowMiles</th>\n",
              "      <th>WindHighMPH</th>\n",
              "      <th>WindAvgMPH</th>\n",
              "      <th>WindGustMPH</th>\n",
              "      <th>PrecipitationSumInches</th>\n",
              "      <th>Events</th>\n",
              "    </tr>\n",
              "  </thead>\n",
              "  <tbody>\n",
              "    <tr>\n",
              "      <th>0</th>\n",
              "      <td>2013-12-21</td>\n",
              "      <td>74</td>\n",
              "      <td>60</td>\n",
              "      <td>45</td>\n",
              "      <td>67</td>\n",
              "      <td>49</td>\n",
              "      <td>43</td>\n",
              "      <td>93</td>\n",
              "      <td>75</td>\n",
              "      <td>57</td>\n",
              "      <td>29.86</td>\n",
              "      <td>29.68</td>\n",
              "      <td>29.59</td>\n",
              "      <td>10</td>\n",
              "      <td>7</td>\n",
              "      <td>2</td>\n",
              "      <td>20</td>\n",
              "      <td>4</td>\n",
              "      <td>31</td>\n",
              "      <td>0.46</td>\n",
              "      <td>Rain , Thunderstorm</td>\n",
              "    </tr>\n",
              "    <tr>\n",
              "      <th>1</th>\n",
              "      <td>2013-12-22</td>\n",
              "      <td>56</td>\n",
              "      <td>48</td>\n",
              "      <td>39</td>\n",
              "      <td>43</td>\n",
              "      <td>36</td>\n",
              "      <td>28</td>\n",
              "      <td>93</td>\n",
              "      <td>68</td>\n",
              "      <td>43</td>\n",
              "      <td>30.41</td>\n",
              "      <td>30.13</td>\n",
              "      <td>29.87</td>\n",
              "      <td>10</td>\n",
              "      <td>10</td>\n",
              "      <td>5</td>\n",
              "      <td>16</td>\n",
              "      <td>6</td>\n",
              "      <td>25</td>\n",
              "      <td>0</td>\n",
              "      <td></td>\n",
              "    </tr>\n",
              "    <tr>\n",
              "      <th>2</th>\n",
              "      <td>2013-12-23</td>\n",
              "      <td>58</td>\n",
              "      <td>45</td>\n",
              "      <td>32</td>\n",
              "      <td>31</td>\n",
              "      <td>27</td>\n",
              "      <td>23</td>\n",
              "      <td>76</td>\n",
              "      <td>52</td>\n",
              "      <td>27</td>\n",
              "      <td>30.56</td>\n",
              "      <td>30.49</td>\n",
              "      <td>30.41</td>\n",
              "      <td>10</td>\n",
              "      <td>10</td>\n",
              "      <td>10</td>\n",
              "      <td>8</td>\n",
              "      <td>3</td>\n",
              "      <td>12</td>\n",
              "      <td>0</td>\n",
              "      <td></td>\n",
              "    </tr>\n",
              "    <tr>\n",
              "      <th>3</th>\n",
              "      <td>2013-12-24</td>\n",
              "      <td>61</td>\n",
              "      <td>46</td>\n",
              "      <td>31</td>\n",
              "      <td>36</td>\n",
              "      <td>28</td>\n",
              "      <td>21</td>\n",
              "      <td>89</td>\n",
              "      <td>56</td>\n",
              "      <td>22</td>\n",
              "      <td>30.56</td>\n",
              "      <td>30.45</td>\n",
              "      <td>30.3</td>\n",
              "      <td>10</td>\n",
              "      <td>10</td>\n",
              "      <td>7</td>\n",
              "      <td>12</td>\n",
              "      <td>4</td>\n",
              "      <td>20</td>\n",
              "      <td>0</td>\n",
              "      <td></td>\n",
              "    </tr>\n",
              "    <tr>\n",
              "      <th>4</th>\n",
              "      <td>2013-12-25</td>\n",
              "      <td>58</td>\n",
              "      <td>50</td>\n",
              "      <td>41</td>\n",
              "      <td>44</td>\n",
              "      <td>40</td>\n",
              "      <td>36</td>\n",
              "      <td>86</td>\n",
              "      <td>71</td>\n",
              "      <td>56</td>\n",
              "      <td>30.41</td>\n",
              "      <td>30.33</td>\n",
              "      <td>30.27</td>\n",
              "      <td>10</td>\n",
              "      <td>10</td>\n",
              "      <td>7</td>\n",
              "      <td>10</td>\n",
              "      <td>2</td>\n",
              "      <td>16</td>\n",
              "      <td>T</td>\n",
              "      <td></td>\n",
              "    </tr>\n",
              "    <tr>\n",
              "      <th>...</th>\n",
              "      <td>...</td>\n",
              "      <td>...</td>\n",
              "      <td>...</td>\n",
              "      <td>...</td>\n",
              "      <td>...</td>\n",
              "      <td>...</td>\n",
              "      <td>...</td>\n",
              "      <td>...</td>\n",
              "      <td>...</td>\n",
              "      <td>...</td>\n",
              "      <td>...</td>\n",
              "      <td>...</td>\n",
              "      <td>...</td>\n",
              "      <td>...</td>\n",
              "      <td>...</td>\n",
              "      <td>...</td>\n",
              "      <td>...</td>\n",
              "      <td>...</td>\n",
              "      <td>...</td>\n",
              "      <td>...</td>\n",
              "      <td>...</td>\n",
              "    </tr>\n",
              "    <tr>\n",
              "      <th>1314</th>\n",
              "      <td>2017-07-27</td>\n",
              "      <td>103</td>\n",
              "      <td>89</td>\n",
              "      <td>75</td>\n",
              "      <td>71</td>\n",
              "      <td>67</td>\n",
              "      <td>61</td>\n",
              "      <td>82</td>\n",
              "      <td>54</td>\n",
              "      <td>25</td>\n",
              "      <td>30.04</td>\n",
              "      <td>29.97</td>\n",
              "      <td>29.88</td>\n",
              "      <td>10</td>\n",
              "      <td>10</td>\n",
              "      <td>10</td>\n",
              "      <td>12</td>\n",
              "      <td>5</td>\n",
              "      <td>21</td>\n",
              "      <td>0</td>\n",
              "      <td></td>\n",
              "    </tr>\n",
              "    <tr>\n",
              "      <th>1315</th>\n",
              "      <td>2017-07-28</td>\n",
              "      <td>105</td>\n",
              "      <td>91</td>\n",
              "      <td>76</td>\n",
              "      <td>71</td>\n",
              "      <td>64</td>\n",
              "      <td>55</td>\n",
              "      <td>87</td>\n",
              "      <td>54</td>\n",
              "      <td>20</td>\n",
              "      <td>29.97</td>\n",
              "      <td>29.9</td>\n",
              "      <td>29.81</td>\n",
              "      <td>10</td>\n",
              "      <td>10</td>\n",
              "      <td>10</td>\n",
              "      <td>14</td>\n",
              "      <td>5</td>\n",
              "      <td>20</td>\n",
              "      <td>0</td>\n",
              "      <td></td>\n",
              "    </tr>\n",
              "    <tr>\n",
              "      <th>1316</th>\n",
              "      <td>2017-07-29</td>\n",
              "      <td>107</td>\n",
              "      <td>92</td>\n",
              "      <td>77</td>\n",
              "      <td>72</td>\n",
              "      <td>64</td>\n",
              "      <td>55</td>\n",
              "      <td>82</td>\n",
              "      <td>51</td>\n",
              "      <td>19</td>\n",
              "      <td>29.91</td>\n",
              "      <td>29.86</td>\n",
              "      <td>29.79</td>\n",
              "      <td>10</td>\n",
              "      <td>10</td>\n",
              "      <td>10</td>\n",
              "      <td>12</td>\n",
              "      <td>4</td>\n",
              "      <td>17</td>\n",
              "      <td>0</td>\n",
              "      <td></td>\n",
              "    </tr>\n",
              "    <tr>\n",
              "      <th>1317</th>\n",
              "      <td>2017-07-30</td>\n",
              "      <td>106</td>\n",
              "      <td>93</td>\n",
              "      <td>79</td>\n",
              "      <td>70</td>\n",
              "      <td>68</td>\n",
              "      <td>63</td>\n",
              "      <td>69</td>\n",
              "      <td>48</td>\n",
              "      <td>27</td>\n",
              "      <td>29.96</td>\n",
              "      <td>29.91</td>\n",
              "      <td>29.87</td>\n",
              "      <td>10</td>\n",
              "      <td>10</td>\n",
              "      <td>10</td>\n",
              "      <td>13</td>\n",
              "      <td>4</td>\n",
              "      <td>20</td>\n",
              "      <td>0</td>\n",
              "      <td></td>\n",
              "    </tr>\n",
              "    <tr>\n",
              "      <th>1318</th>\n",
              "      <td>2017-07-31</td>\n",
              "      <td>99</td>\n",
              "      <td>88</td>\n",
              "      <td>77</td>\n",
              "      <td>66</td>\n",
              "      <td>61</td>\n",
              "      <td>54</td>\n",
              "      <td>64</td>\n",
              "      <td>43</td>\n",
              "      <td>22</td>\n",
              "      <td>30.04</td>\n",
              "      <td>29.97</td>\n",
              "      <td>29.91</td>\n",
              "      <td>10</td>\n",
              "      <td>10</td>\n",
              "      <td>10</td>\n",
              "      <td>12</td>\n",
              "      <td>4</td>\n",
              "      <td>20</td>\n",
              "      <td>0</td>\n",
              "      <td></td>\n",
              "    </tr>\n",
              "  </tbody>\n",
              "</table>\n",
              "<p>1319 rows × 21 columns</p>\n",
              "</div>"
            ],
            "text/plain": [
              "            Date  TempHighF  ...  PrecipitationSumInches               Events\n",
              "0     2013-12-21         74  ...                    0.46  Rain , Thunderstorm\n",
              "1     2013-12-22         56  ...                       0                     \n",
              "2     2013-12-23         58  ...                       0                     \n",
              "3     2013-12-24         61  ...                       0                     \n",
              "4     2013-12-25         58  ...                       T                     \n",
              "...          ...        ...  ...                     ...                  ...\n",
              "1314  2017-07-27        103  ...                       0                     \n",
              "1315  2017-07-28        105  ...                       0                     \n",
              "1316  2017-07-29        107  ...                       0                     \n",
              "1317  2017-07-30        106  ...                       0                     \n",
              "1318  2017-07-31         99  ...                       0                     \n",
              "\n",
              "[1319 rows x 21 columns]"
            ]
          },
          "metadata": {},
          "execution_count": 22
        }
      ]
    },
    {
      "cell_type": "markdown",
      "metadata": {
        "id": "InAdI7EUHDMt"
      },
      "source": [
        "#### Next we will perform linear interpolation of the missing data.\n",
        "\n",
        "This means that we will use a linear algorithm to estimate the missing data. Linear interpolation assumes that there is a straight line between the points and the missing point will fall on that line. This is a good enough approximation for weather related data. Weather related data is typically a time series. Therefore, we do not want to drop rows from our data if possible. It is prefereable to estimate the missing values rather than remove the rows. However, if you have data from a single point in time, perhaps a better solution would be to remove the rows. \n",
        "\n",
        "If you would like to read more about linear interpolation, you can do so [here](https://en.wikipedia.org/wiki/Linear_interpolation).\n",
        "\n",
        "In the following cell, use the `.interpolate()` function on the entire dataframe. This time pass the `inplace=False` argument to the function and assign the interpolated dataframe to a new variable called `austin_fixed` so that we can compare with `austin`."
      ]
    },
    {
      "cell_type": "code",
      "metadata": {
        "id": "Nme0ke5bHDMt"
      },
      "source": [
        "# Your code here\n"
      ],
      "execution_count": 23,
      "outputs": []
    },
    {
      "cell_type": "markdown",
      "metadata": {
        "id": "OtLHNxkAHDMt"
      },
      "source": [
        "#### Check to make sure `austin_fixed` contains no missing data. Also check `austin` - it still contains missing data."
      ]
    },
    {
      "cell_type": "code",
      "metadata": {
        "id": "9b1EwhPsHDMt"
      },
      "source": [
        "# Your code here\n"
      ],
      "execution_count": 24,
      "outputs": []
    },
    {
      "cell_type": "markdown",
      "metadata": {
        "id": "mm6XKPayHDMu"
      },
      "source": [
        "# Challenge 3 - Processing the `Events` Column"
      ]
    },
    {
      "cell_type": "markdown",
      "metadata": {
        "id": "IszIIzcjHDMu"
      },
      "source": [
        "#### Our dataframe contains one true text column - the Events column. We should evaluate this column to determine how to process it.\n",
        "\n",
        "Use the `value_counts()` function to evaluate the contents of this column"
      ]
    },
    {
      "cell_type": "code",
      "metadata": {
        "id": "OcGosRvBHDMu"
      },
      "source": [
        "# Your code here:\n"
      ],
      "execution_count": 25,
      "outputs": []
    },
    {
      "cell_type": "markdown",
      "metadata": {
        "id": "CPt31GbJHDMu"
      },
      "source": [
        "Reading the values of `Events` and reflecting what those values mean in the context of data, you realize this column indicates what weather events had happened in a particular day.\n",
        "\n",
        "#### What is the largest number of events happened in a single day? Enter your answer in the next cell."
      ]
    },
    {
      "cell_type": "code",
      "metadata": {
        "id": "2wpQbRYiHDMu"
      },
      "source": [
        "# Your answer:\n"
      ],
      "execution_count": 26,
      "outputs": []
    },
    {
      "cell_type": "markdown",
      "metadata": {
        "id": "KeoiDtN5HDMu"
      },
      "source": [
        "#### We want to transform the string-type `Events` values to the numbers. This will allow us to apply machine learning algorithms easily.\n",
        "\n",
        "How? We will create a new column for each type of events (i.e. *Rain*, *Snow*, *Fog*, *Thunderstorm*. In each column, we use `1` to indicate if the corresponding event happened in that day and use `0` otherwise.\n",
        "\n",
        "Below we provide you a list of all event types. Loop the list and create a dummy column with `0` values for each event in `austin_fixed`. To create a new dummy column with `0` values, simply use `austin_fixed[event] = 0`."
      ]
    },
    {
      "cell_type": "code",
      "metadata": {
        "id": "Xaz1pDw9HDMu",
        "outputId": "0b8b2372-9d11-41e8-8ef9-3f376e2280fd",
        "colab": {
          "base_uri": "https://localhost:8080/",
          "height": 200
        }
      },
      "source": [
        "event_list = ['Snow', 'Fog', 'Rain', 'Thunderstorm']\n",
        "\n",
        "# Your code here\n",
        "\n",
        "\n",
        "# Print your new dataframe to check whether new columns have been created:\n",
        "\n",
        "austin_fixed"
      ],
      "execution_count": 27,
      "outputs": [
        {
          "output_type": "error",
          "ename": "NameError",
          "evalue": "ignored",
          "traceback": [
            "\u001b[0;31m---------------------------------------------------------------------------\u001b[0m",
            "\u001b[0;31mNameError\u001b[0m                                 Traceback (most recent call last)",
            "\u001b[0;32m<ipython-input-27-5b4547b9b377>\u001b[0m in \u001b[0;36m<module>\u001b[0;34m()\u001b[0m\n\u001b[1;32m      6\u001b[0m \u001b[0;31m# Print your new dataframe to check whether new columns have been created:\u001b[0m\u001b[0;34m\u001b[0m\u001b[0;34m\u001b[0m\u001b[0;34m\u001b[0m\u001b[0m\n\u001b[1;32m      7\u001b[0m \u001b[0;34m\u001b[0m\u001b[0m\n\u001b[0;32m----> 8\u001b[0;31m \u001b[0maustin_fixed\u001b[0m\u001b[0;34m\u001b[0m\u001b[0;34m\u001b[0m\u001b[0m\n\u001b[0m",
            "\u001b[0;31mNameError\u001b[0m: name 'austin_fixed' is not defined"
          ]
        }
      ]
    },
    {
      "cell_type": "markdown",
      "metadata": {
        "id": "2hTDJqbkHDMu"
      },
      "source": [
        "#### Next, populate the actual values in the dummy columns of  `austin_fixed`.\n",
        "\n",
        "You will check the *Events* column. If its string value contains `Rain`, then the *Rain* column should be `1`. The same for `Snow`, `Fog`, and `Thunderstorm`.\n",
        "\n",
        "*Hints:*\n",
        "\n",
        "* Use [`pandas.Series.str.contains()`](https://pandas.pydata.org/pandas-docs/stable/generated/pandas.Series.str.contains.html) to create the value series of each new column.\n",
        "\n",
        "* What if the values you populated are booleans instead of numbers? You can cast the boolean values to numbers by using `.astype(int)`. For instance, `pd.Series([True, True, False]).astype(int)` will return a new series with values of `[1, 1, 0]`."
      ]
    },
    {
      "cell_type": "code",
      "metadata": {
        "id": "WHP9dhdJHDMu"
      },
      "source": [
        "# Your code here\n"
      ],
      "execution_count": null,
      "outputs": []
    },
    {
      "cell_type": "markdown",
      "metadata": {
        "id": "lKAwD0JeHDMv"
      },
      "source": [
        "#### Print out `austin_fixed` to check if the event columns are populated with the intended values"
      ]
    },
    {
      "cell_type": "code",
      "metadata": {
        "id": "dlyfEEfEHDMv"
      },
      "source": [
        "# Your code here\n"
      ],
      "execution_count": null,
      "outputs": []
    },
    {
      "cell_type": "markdown",
      "metadata": {
        "id": "CEhHRU2GHDMv"
      },
      "source": [
        "#### If your code worked correctly, now we can drop the `Events` column as we don't need it any more."
      ]
    },
    {
      "cell_type": "code",
      "metadata": {
        "id": "JAE8RrC3HDMv"
      },
      "source": [
        "# Your code here\n"
      ],
      "execution_count": null,
      "outputs": []
    },
    {
      "cell_type": "markdown",
      "metadata": {
        "id": "iC-6x8cbHDMv"
      },
      "source": [
        "# Challenge 4 - Processing The `Date` Column\n",
        "\n",
        "The `Date` column is another non-numeric field in our dataset. A value in that field looks like `'2014-01-06'` which consists of the year, month, and day connected with hyphens. One way to convert the date string to numerical is using a similar approach as we used for `Events`, namely splitting the column into numerical `Year`, `Month`, and `Day` columns. In this challenge we'll show you another way which is to use the Python `datetime` library's `toordinal()` function. Depending on what actual machine learning analysis you will conduct, each approach has its pros and cons. Our goal today is to practice data preparation so we'll skip the discussion here.\n",
        "\n",
        "Here you can find the [reference](https://docs.python.org/3/library/datetime.html) and [example](https://stackoverflow.com/questions/39846918/convert-date-to-ordinal-python) for `toordinal`. The basic process is to first convert the string to a `datetime` object using `datetime.datetime.strptime`, then convert the `datetime` object to numerical using `toordinal`.\n",
        "\n",
        "#### In the cell below, convert the `Date` column values from string to numeric values using `toordinal()`."
      ]
    },
    {
      "cell_type": "code",
      "metadata": {
        "id": "8SG7QKLBHDMv"
      },
      "source": [
        "# Your code here\n"
      ],
      "execution_count": null,
      "outputs": []
    },
    {
      "cell_type": "markdown",
      "metadata": {
        "id": "aBX9NRKGHDMv"
      },
      "source": [
        "#### Print `austin_fixed` to check your `Date` column."
      ]
    },
    {
      "cell_type": "code",
      "metadata": {
        "id": "7ge1r1IEHDMv"
      },
      "source": [
        "austin_fixed.head(5)"
      ],
      "execution_count": null,
      "outputs": []
    },
    {
      "cell_type": "markdown",
      "metadata": {
        "id": "3buXwRH9HDMv"
      },
      "source": [
        "# Challenge 5 - Sampling and Holdout Sets"
      ]
    },
    {
      "cell_type": "markdown",
      "metadata": {
        "id": "AtvAVeYQHDMw"
      },
      "source": [
        "#### Now that we have processed the data for machine learning, we will separate the data to test and training sets.\n",
        "\n",
        "We first train the model using only the training set. We check our metrics on the training set. We then apply the model to the test set and check our metrics on the test set as well. If the metrics are significantly more optimal on the training set, then we know we have overfit our model. We will need to revise our model to ensure it will be more applicable to data outside the test set."
      ]
    },
    {
      "cell_type": "markdown",
      "metadata": {
        "id": "idJ4pLQhHDMw"
      },
      "source": [
        "#### In the next cells we will separate the data into a training set and a test set using the `train_test_split()` function in scikit-learn.\n",
        "\n",
        "When using `scikit-learn` for machine learning, we first separate the data to predictor and response variables. This is the standard way of passing datasets into a model in `scikit-learn`. The `scikit-learn` will then find out whether the predictors and responses fit the model.\n",
        "\n",
        "In the next cell, assign the `TempAvgF` column to `y` and the remaining columns to `X`. Your `X` should be a subset of `austin_fixed` containing the following columns: \n",
        "\n",
        "```['Date',\n",
        " 'TempHighF',\n",
        " 'TempLowF',\n",
        " 'DewPointHighF',\n",
        " 'DewPointAvgF',\n",
        " 'DewPointLowF',\n",
        " 'HumidityHighPercent',\n",
        " 'HumidityAvgPercent',\n",
        " 'HumidityLowPercent',\n",
        " 'SeaLevelPressureHighInches',\n",
        " 'SeaLevelPressureAvgInches',\n",
        " 'SeaLevelPressureLowInches',\n",
        " 'VisibilityHighMiles',\n",
        " 'VisibilityAvgMiles',\n",
        " 'VisibilityLowMiles',\n",
        " 'WindHighMPH',\n",
        " 'WindAvgMPH',\n",
        " 'WindGustMPH',\n",
        " 'Snow',\n",
        " 'Fog',\n",
        " 'Rain',\n",
        " 'Thunderstorm']```\n",
        " \n",
        " Your `y` should be a subset of `austin_fixed` containing one column `TempAvgF`."
      ]
    },
    {
      "cell_type": "code",
      "metadata": {
        "id": "a5wf3kAGHDMw"
      },
      "source": [
        "# Your code here:\n"
      ],
      "execution_count": null,
      "outputs": []
    },
    {
      "cell_type": "markdown",
      "metadata": {
        "id": "mYGI3A4GHDMw"
      },
      "source": [
        "In the next cell, import `train_test_split` from `sklearn.model_selection`"
      ]
    },
    {
      "cell_type": "code",
      "metadata": {
        "id": "EMWOT549HDMw"
      },
      "source": [
        "#Your code here:\n"
      ],
      "execution_count": null,
      "outputs": []
    },
    {
      "cell_type": "markdown",
      "metadata": {
        "id": "N4xn1UzBHDMw"
      },
      "source": [
        "Now that we have split the data to predictor and response variables and imported the `train_test_split()` function, split `X` and `y` into `X_train`, `X_test`, `y_train`, and `y_test`. 80% of the data should be in the training set and 20% in the test set. `train_test_split()` reference can be accessed [here](https://scikit-learn.org/stable/modules/generated/sklearn.model_selection.train_test_split.html).\n",
        "\n",
        "\n",
        "Enter your code in the cell below:"
      ]
    },
    {
      "cell_type": "code",
      "metadata": {
        "id": "rN1d4zKKHDMw"
      },
      "source": [
        "#Your code here:\n"
      ],
      "execution_count": null,
      "outputs": []
    },
    {
      "cell_type": "markdown",
      "metadata": {
        "id": "3TSyaVI7HDMw"
      },
      "source": [
        "#### Congratulations! Now you have finished the preparation of the dataset!"
      ]
    },
    {
      "cell_type": "markdown",
      "metadata": {
        "id": "9OBSq1RSHDMx"
      },
      "source": [
        "# Bonus Challenge 1\n",
        "\n",
        "#### While the above is the common practice to prepare most datasets, when it comes to time series data, we sometimes do not want to randomly select rows from our dataset.\n",
        "\n",
        "This is because many time series algorithms rely on observations having equal time distances between them. In such cases, we typically select the majority of rows as the test data and the last few rows as the training data. We don't use `train_test_split()` to select the train/test data because it returns random selections.\n",
        "\n",
        "In the following cell, compute the number of rows that account for 80% of our data and round it to the next integer. Assign this number to `ts_rows`."
      ]
    },
    {
      "cell_type": "code",
      "metadata": {
        "id": "u51DTXHJHDMx"
      },
      "source": [
        "# Your code here:\n"
      ],
      "execution_count": null,
      "outputs": []
    },
    {
      "cell_type": "markdown",
      "metadata": {
        "id": "aWG3ejPLHDMx"
      },
      "source": [
        "Assign the first `ts_rows` rows of `X` to `X_ts_train` and the remaining rows to `X_ts_test`."
      ]
    },
    {
      "cell_type": "code",
      "metadata": {
        "id": "uEG76JqvHDMx"
      },
      "source": [
        "# Your code here:\n"
      ],
      "execution_count": null,
      "outputs": []
    },
    {
      "cell_type": "markdown",
      "metadata": {
        "id": "HkD8HyybHDMx"
      },
      "source": [
        "Assign the first `ts_rows` rows of `y` to `y_ts_train` and the remaining rows to `y_ts_test`."
      ]
    },
    {
      "cell_type": "code",
      "metadata": {
        "id": "o5a4cKqnHDMx"
      },
      "source": [
        "# Your code here:\n"
      ],
      "execution_count": null,
      "outputs": []
    }
  ]
}